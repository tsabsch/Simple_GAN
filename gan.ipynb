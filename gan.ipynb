{
 "cells": [
  {
   "cell_type": "markdown",
   "metadata": {
    "colab_type": "text",
    "id": "9vOD8DmekuSH"
   },
   "source": [
    "# Generative Adversarial Networks\n",
    "\n",
    "> Generative adversarial networks (GANs) are a class of artificial intelligence algorithms used in unsupervised machine learning, implemented by a system of two neural networks contesting with each other in a zero-sum game framework. They were introduced by Ian Goodfellow et al. in 2014. This technique can generate photographs that look at least superficially authentic to human observers, having many realistic characteristics (though in tests people can tell real from generated in many cases). (Wikipedia)\n",
    "\n",
    "This source code provides a very simple implementation of a GAN (similar to the original implementation of Goodfellow et al. 2014) with Keras on Tensorflow."
   ]
  },
  {
   "cell_type": "markdown",
   "metadata": {
    "colab_type": "text",
    "id": "wVM2h03VkuSI"
   },
   "source": [
    "First, we download the dataset and normalise the data into the interval `[0, 1]`."
   ]
  },
  {
   "cell_type": "code",
   "execution_count": 0,
   "metadata": {
    "colab": {},
    "colab_type": "code",
    "id": "_U8idzeJkuSK"
   },
   "outputs": [],
   "source": [
    "from keras.datasets import mnist\n",
    "import numpy as np\n",
    "\n",
    "(X_train, _), (_, _) = mnist.load_data()\n",
    "\n",
    "# normalise data\n",
    "X_train = (X_train - np.min(X_train)) / (np.max(X_train) - np.min(X_train))"
   ]
  },
  {
   "cell_type": "markdown",
   "metadata": {
    "colab_type": "text",
    "id": "1sKXKB9EkuSP"
   },
   "source": [
    "We define our network in a simple manner: The generator and discrimnator have an almost symmetrical design, which resembles an inverse autoencoder: The generator takes low-resolution noise as its input and scales it up to the image resolution. The discriminator takes an image as its input and outputs a single binary digit (which decides, whether the image was fake or real).\n",
    "\n",
    "We use LeakyReLU as the activation functions between the internal layers and tanh for the discrimation layer."
   ]
  },
  {
   "cell_type": "code",
   "execution_count": null,
   "metadata": {
    "colab": {
     "base_uri": "https://localhost:8080/",
     "height": 833
    },
    "colab_type": "code",
    "id": "tf3yDI7VkuST",
    "outputId": "82d70eb2-910b-4ed3-c2fe-547604942f25"
   },
   "outputs": [],
   "source": [
    "from keras.models import Sequential, Model\n",
    "from keras.layers import Dense, LeakyReLU, Reshape, Flatten, Input, MaxoutDense\n",
    "from keras.optimizers import Adam\n",
    "\n",
    "img_shape = (X_train.shape[1], X_train.shape[2])\n",
    "res = X_train.shape[1] * X_train.shape[2]\n",
    "noise_res = int(resolution / 4)\n",
    "\n",
    "D = Sequential()\n",
    "D.add(Flatten(input_shape=img_shape))\n",
    "D.add(Dense(int(res/2)))\n",
    "D.add(LeakyReLU())\n",
    "D.add(Dense(int(res/4)))\n",
    "D.add(LeakyReLU())\n",
    "D.add(Dense(int(res/8)))\n",
    "D.add(LeakyReLU())\n",
    "D.add(Dense(1, activation='sigmoid'))\n",
    "D.summary()\n",
    "\n",
    "optimizer = Adam(0.0002, 0.5)\n",
    "D.compile(loss='binary_crossentropy', optimizer=optimizer, metrics=['accuracy'])\n",
    "\n",
    "G = Sequential()\n",
    "G.add(Dense(int(res/4), input_shape=(noise_res,)))\n",
    "G.add(LeakyReLU())\n",
    "G.add(Dense(int(res/2)))\n",
    "G.add(LeakyReLU())\n",
    "G.add(Dense(int(res)))\n",
    "G.add(LeakyReLU())\n",
    "G.add(MaxoutDense(res))\n",
    "G.add(Reshape(img_shape))\n",
    "G.summary()\n",
    "\n",
    "z = Input(shape=(noise_res,))\n",
    "\n",
    "D.trainable = False\n",
    "full_gan = Model(z, D(G(z)))\n",
    "full_gan.compile(loss='binary_crossentropy', optimizer=optimizer, metrics=['accuracy'])"
   ]
  },
  {
   "cell_type": "markdown",
   "metadata": {
    "colab_type": "text",
    "id": "9WjapZJmkuSV"
   },
   "source": [
    "We train in mini-batches. In each epoch, the discriminator is trained with 50% fake and 50% real images. Afterwards, the generator is trained."
   ]
  },
  {
   "cell_type": "code",
   "execution_count": null,
   "metadata": {
    "colab": {
     "base_uri": "https://localhost:8080/",
     "height": 1771
    },
    "colab_type": "code",
    "id": "3l4jQmsokuSW",
    "outputId": "a45a6ee8-d5e3-43d9-b8a3-e96842468e77"
   },
   "outputs": [],
   "source": [
    "epochs = 30000\n",
    "batch_size = 32\n",
    "half_batch_size = int(batch_size / 2)\n",
    "\n",
    "for epoch in range(epochs):\n",
    "    # get half the batch from real images\n",
    "    real_idxs = np.random.randint(X_train.shape[0], size=half_batch_size)\n",
    "    real_imgs = X_train[real_idxs]\n",
    "    \n",
    "    # get other half of generated images\n",
    "    noise = np.random.normal(size=(half_batch_size, noise_res))\n",
    "    fake_imgs = G.predict(noise)\n",
    "    \n",
    "    # train discriminator\n",
    "    rloss = D.train_on_batch(real_imgs, np.ones(half_batch_size))\n",
    "    floss = D.train_on_batch(fake_imgs, np.zeros(half_batch_size))\n",
    "    dloss = 0.5 * np.add(rloss, floss)\n",
    "\n",
    "    # train generator\n",
    "    # first, generate images and classify them via discriminator\n",
    "    noise = np.random.normal(size=(batch_size, noise_res))\n",
    "    gloss = full_gan.train_on_batch(noise, np.ones(batch_size,))\n",
    "    \n",
    "    if epoch % 100 == 0:\n",
    "      print (\"%d [D loss: %f, acc.: %.2f%%] [G loss: %f]\" % (epoch, dloss[0], 100*dloss[1], gloss[0]))"
   ]
  },
  {
   "cell_type": "markdown",
   "metadata": {
    "colab_type": "text",
    "id": "sfaUaHG7kuSY"
   },
   "source": [
    "Lastly, we generate and visualise some images."
   ]
  },
  {
   "cell_type": "code",
   "execution_count": 92,
   "metadata": {
    "colab": {
     "base_uri": "https://localhost:8080/",
     "height": 268
    },
    "colab_type": "code",
    "id": "HPYhrJtPkuSZ",
    "outputId": "1e184d5b-afc9-41b4-bc41-3d0cc6d52248"
   },
   "outputs": [
    {
     "data": {
      "image/png": "[encoded data removed]",
      "text/plain": [
       "<matplotlib.figure.Figure at 0x7f426058e4e0>"
      ]
     },
     "metadata": {
      "tags": []
     },
     "output_type": "display_data"
    }
   ],
   "source": [
    "import matplotlib.pyplot as plt\n",
    "%matplotlib inline\n",
    "\n",
    "n = 9\n",
    "noise = np.random.normal(size=(n, noise_res))\n",
    "imgs = G.predict(noise)\n",
    "\n",
    "fig = plt.figure()\n",
    "for i in range(n):\n",
    "    ax = fig.add_subplot(3,3,i+1)\n",
    "    ax.axis('off')\n",
    "    ax.imshow(imgs[i])"
   ]
  }
 ],
 "metadata": {
  "accelerator": "GPU",
  "colab": {
   "collapsed_sections": [],
   "name": "Basic_GAN.ipynb",
   "provenance": [],
   "version": "0.3.2"
  },
  "kernelspec": {
   "display_name": "Python 3",
   "language": "python",
   "name": "python3"
  },
  "language_info": {
   "codemirror_mode": {
    "name": "ipython",
    "version": 3
   },
   "file_extension": ".py",
   "mimetype": "text/x-python",
   "name": "python",
   "nbconvert_exporter": "python",
   "pygments_lexer": "ipython3",
   "version": "3.6.5"
  }
 },
 "nbformat": 4,
 "nbformat_minor": 1
}
